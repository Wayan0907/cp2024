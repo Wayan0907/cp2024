{
 "cells": [
  {
   "cell_type": "code",
   "execution_count": null,
   "id": "4b720cf2-edc2-43e3-8ff2-5516cbb08299",
   "metadata": {},
   "outputs": [],
   "source": [
    "from cmsimde import flaskapp\n",
    "from gevent.pywsgi import WSGIServer\n",
    "\n",
    "#flaskapp.app.run(host=\"0.0.0.0\", debug=True)\n",
    "http_server = WSGIServer(('0.0.0.0', 8080), flaskapp.app)\n",
    "http_server.serve_fore"
   ]
  }
 ],
 "metadata": {
  "kernelspec": {
   "display_name": "Python 3 (ipykernel)",
   "language": "python",
   "name": "python3"
  },
  "language_info": {
   "codemirror_mode": {
    "name": "ipython",
    "version": 3
   },
   "file_extension": ".py",
   "mimetype": "text/x-python",
   "name": "python",
   "nbconvert_exporter": "python",
   "pygments_lexer": "ipython3",
   "version": "3.10.11"
  }
 },
 "nbformat": 4,
 "nbformat_minor": 5
}
